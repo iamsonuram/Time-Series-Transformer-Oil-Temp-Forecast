{
 "cells": [
  {
   "cell_type": "markdown",
   "id": "9a432027-a1ed-4bfb-8eb0-d7f05c405ac3",
   "metadata": {},
   "source": [
    "### Import the Libraries and Load the Data"
   ]
  },
  {
   "cell_type": "code",
   "execution_count": 1,
   "id": "654d2a02-9266-4bec-a5b2-cac19d59984a",
   "metadata": {},
   "outputs": [
    {
     "name": "stdout",
     "output_type": "stream",
     "text": [
      "                  date   HUFL   HULL   MUFL   MULL   LUFL   LULL         OT\n",
      "0  2016-07-01 00:00:00  5.827  2.009  1.599  0.462  4.203  1.340  30.531000\n",
      "1  2016-07-01 00:15:00  5.760  2.076  1.492  0.426  4.264  1.401  30.459999\n",
      "2  2016-07-01 00:30:00  5.760  1.942  1.492  0.391  4.234  1.310  30.038000\n",
      "3  2016-07-01 00:45:00  5.760  1.942  1.492  0.426  4.234  1.310  27.013000\n",
      "4  2016-07-01 01:00:00  5.693  2.076  1.492  0.426  4.142  1.371  27.787001\n"
     ]
    }
   ],
   "source": [
    "import pandas as pd\n",
    "\n",
    "# Load training data\n",
    "train_data = pd.read_csv('train.csv')\n",
    "# Load test data\n",
    "test_data = pd.read_csv('test.csv')\n",
    "\n",
    "# Preview the data\n",
    "print(train_data.head())\n"
   ]
  },
  {
   "cell_type": "markdown",
   "id": "5ce8f945-c663-483b-af5a-56b97b8cbdbd",
   "metadata": {},
   "source": [
    "### Data Preprocessing"
   ]
  },
  {
   "cell_type": "code",
   "execution_count": 2,
   "id": "cbc0cf62-d4f1-498b-93d6-6f39b3415cbf",
   "metadata": {},
   "outputs": [
    {
     "name": "stdout",
     "output_type": "stream",
     "text": [
      "date    0\n",
      "HUFL    0\n",
      "HULL    0\n",
      "MUFL    0\n",
      "MULL    0\n",
      "LUFL    0\n",
      "LULL    0\n",
      "OT      0\n",
      "dtype: int64\n"
     ]
    }
   ],
   "source": [
    "# Check for missing values\n",
    "print(train_data.isnull().sum())"
   ]
  },
  {
   "cell_type": "markdown",
   "id": "1b4d8608-9b9e-4014-ba1e-203c5960e766",
   "metadata": {},
   "source": [
    "### Feature Engineering"
   ]
  },
  {
   "cell_type": "code",
   "execution_count": 3,
   "id": "d1dae276-2d90-4b4a-971a-be20cbb9cc48",
   "metadata": {},
   "outputs": [],
   "source": [
    "# Creating lag features\n",
    "for lag in range(1, 25):  # Lag features for the last 24 hours\n",
    "    train_data[f'OT_lag_{lag}'] = train_data['OT'].shift(lag)\n",
    "\n",
    "# Rolling mean\n",
    "train_data['OT_roll_mean_24'] = train_data['OT'].rolling(window=24).mean()\n",
    "\n",
    "# Drop rows with NaN values generated due to lagging\n",
    "train_data.dropna(inplace=True)\n"
   ]
  },
  {
   "cell_type": "markdown",
   "id": "03cae2c0-a343-46d7-92ab-cf7ffad7425b",
   "metadata": {},
   "source": [
    "### Data Exploration and Insights (EDA)"
   ]
  },
  {
   "cell_type": "code",
   "execution_count": null,
   "id": "df3c9483-ad89-4992-898e-36d99914a820",
   "metadata": {},
   "outputs": [],
   "source": [
    "import matplotlib.pyplot as plt\n",
    "import seaborn as sns\n",
    "\n",
    "# Plot the oil temperature over time\n",
    "plt.figure(figsize=(10, 6))\n",
    "plt.plot(train_data['date'], train_data['OT'], label='Oil Temperature')\n",
    "plt.title('Oil Temperature Over Time')\n",
    "plt.xlabel('Date')\n",
    "plt.ylabel('Oil Temperature (OT)')\n",
    "plt.legend()\n",
    "plt.show()\n"
   ]
  },
  {
   "cell_type": "markdown",
   "id": "de241520-f08b-46c9-aa29-a466c07e301f",
   "metadata": {},
   "source": [
    "### Model Building"
   ]
  },
  {
   "cell_type": "code",
   "execution_count": null,
   "id": "027504df-1444-4335-b65a-53eedf74c62f",
   "metadata": {},
   "outputs": [],
   "source": [
    "from sklearn.model_selection import train_test_split\n",
    "from sklearn.ensemble import RandomForestRegressor\n",
    "from sklearn.metrics import mean_absolute_error, mean_squared_error\n",
    "\n",
    "# Split the data into train and validation sets\n",
    "X = train_data.drop(['date', 'OT'], axis=1)\n",
    "y = train_data['OT']\n",
    "X_train, X_val, y_train, y_val = train_test_split(X, y, test_size=0.2, shuffle=False)\n",
    "\n",
    "# Random Forest Regressor\n",
    "model = RandomForestRegressor(n_estimators=100, random_state=0)\n",
    "model.fit(X_train, y_train)\n",
    "\n",
    "# Predict on validation set\n",
    "y_pred = model.predict(X_val)\n",
    "\n",
    "# Evaluation\n",
    "mae = mean_absolute_error(y_val, y_pred)\n",
    "rmse = mean_squared_error(y_val, y_pred, squared=False)\n",
    "\n",
    "print(f'MAE: {mae}, RMSE: {rmse}')\n"
   ]
  },
  {
   "cell_type": "markdown",
   "id": "e462f7f9-3646-4eea-8c2f-9bb35d1e1d22",
   "metadata": {},
   "source": [
    "### Model Evaluation"
   ]
  },
  {
   "cell_type": "code",
   "execution_count": null,
   "id": "80ffda2c-f685-4eec-8c6c-7e6c3f76a03c",
   "metadata": {},
   "outputs": [],
   "source": [
    "# Calculate MAPE\n",
    "mape = np.mean(np.abs((y_val - y_pred) / y_val)) * 100\n",
    "\n",
    "print(f'MAPE: {mape}')\n"
   ]
  },
  {
   "cell_type": "markdown",
   "id": "aeaeb45e-4462-4259-8e46-6a5a2002a5f2",
   "metadata": {},
   "source": [
    "### Forecasting the Next 24 Hours"
   ]
  },
  {
   "cell_type": "code",
   "execution_count": null,
   "id": "cb9b4d38-127d-4082-9868-d8765707d4e8",
   "metadata": {},
   "outputs": [],
   "source": [
    "# Scale the test data similarly\n",
    "scaled_test_data = pd.DataFrame(scaler.transform(test_data.drop('date', axis=1)), columns=test_data.columns[1:])\n",
    "\n",
    "# Predict the next 24 hours of oil temperature\n",
    "predictions = model.predict(scaled_test_data)\n",
    "print(predictions)\n"
   ]
  },
  {
   "cell_type": "code",
   "execution_count": null,
   "id": "c2877a99-0713-4eea-b002-cccd0423ad39",
   "metadata": {},
   "outputs": [],
   "source": []
  }
 ],
 "metadata": {
  "kernelspec": {
   "display_name": "Python 3 (ipykernel)",
   "language": "python",
   "name": "python3"
  },
  "language_info": {
   "codemirror_mode": {
    "name": "ipython",
    "version": 3
   },
   "file_extension": ".py",
   "mimetype": "text/x-python",
   "name": "python",
   "nbconvert_exporter": "python",
   "pygments_lexer": "ipython3",
   "version": "3.11.7"
  }
 },
 "nbformat": 4,
 "nbformat_minor": 5
}
